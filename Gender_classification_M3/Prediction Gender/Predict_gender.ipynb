{
 "cells": [
  {
   "cell_type": "code",
   "execution_count": null,
   "metadata": {},
   "outputs": [],
   "source": [
    "# #############################################################################\n",
    "# Running the imageson M3 and getting the output\n",
    "\n",
    "\n",
    "with open('../../GIGIDL/Data/imdb.csv', 'w', newline='') as myfile:             # Here output written in the file\n",
    "    wr = csv.writer(myfile,quoting=csv.QUOTE_ALL)\n",
    "    wr.writerow(['Imagename','G_Gender','M_Gender'])\n",
    "\n",
    "    for Imagename in os.listdir('../../GIGIDL/Data/a/'):                        # Get the images from directory\n",
    "        try:\n",
    "            Image_location=\"/home/sshuser2/a/\"+Imagename                     # Get the image loacation of each image\n",
    "            resized_image=resize_im(Image_location,200,200)\n",
    "            Convert_format(Image_location)\n",
    "            Mi_gender=Mi_inference(Image_location,Imagename)\n",
    "            wr = csv.writer(myfile,quoting=csv.QUOTE_ALL)\n",
    "            wr.writerow([Imagename,'F',Mi_gender])\n",
    "        except:\n",
    "            print(\"Oops!\",sys.exc_info()[0],\"occured.\")\n",
    "            print()"
   ]
  }
 ],
 "metadata": {
  "kernelspec": {
   "display_name": "Python 3",
   "language": "python",
   "name": "python3"
  },
  "language_info": {
   "codemirror_mode": {
    "name": "ipython",
    "version": 3
   },
   "file_extension": ".py",
   "mimetype": "text/x-python",
   "name": "python",
   "nbconvert_exporter": "python",
   "pygments_lexer": "ipython3"
  }
 },
 "nbformat": 4,
 "nbformat_minor": 2
}
